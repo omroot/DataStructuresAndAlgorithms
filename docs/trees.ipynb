{
 "cells": [
  {
   "cell_type": "markdown",
   "id": "c53dc491-4474-4a59-8f3e-388b5777e31c",
   "metadata": {},
   "source": [
    "# The Binary Trees"
   ]
  },
  {
   "cell_type": "markdown",
   "id": "48b4caf1-2175-4697-9803-ce284ff8c80a",
   "metadata": {},
   "source": [
    "## Comparison table\n"
   ]
  },
  {
   "cell_type": "markdown",
   "id": "246387dd-34e9-4c7c-98ea-3e2b3253d773",
   "metadata": {},
   "source": [
    "The table below   outlines the differences between Binary Search Trees (BSTs), Heaps, and Priority Queues:"
   ]
  },
  {
   "cell_type": "markdown",
   "id": "e3cecf1d-6406-4435-b137-8a707880dc88",
   "metadata": {},
   "source": [
    "\n",
    "| Feature               | Binary Search Tree (BST)                  | Heap                                     | Priority Queue                           |\n",
    "|-----------------------|-------------------------------------------|------------------------------------------|------------------------------------------|\n",
    "| **Data Structure**    | Tree                                      | Tree (Complete Binary Tree)              | Abstract Data Type                      |\n",
    "| **Ordering Property** | Left subtree < Root < Right subtree        | Parent >= Children (Max-Heap) or          | Highest Priority Element at Front      |\n",
    "|                       |                                           | Parent <= Children (Min-Heap)            | (Min-Heap or Max-Heap based on priority)|\n",
    "| **Insertion Time**    | $ O(\\log n) $ average, $ O(n)$ worst case | $ O(\\log n) $                          | $ O(\\log n) $                          |\n",
    "| **Deletion Time**     | $ O(\\log n)$ average, $ O(n)$ worst case |$ O(\\log n) $                          | $ O(\\log n) $                          |\n",
    "| **Search Time**       | $ O(\\log n) $ average, $ O(n) $ worst case | $ O(n) $                               | $ O(n) $ (with linear search)          |\n",
    "| **Structure**         | Non-linear                                | Tree                                     | ADT (Abstract Data Type)                 |\n",
    "| **Space Complexity**  | $ O(n) $                                | $ O(n) $                               | $ O(n) $                              |\n",
    "| **Sorting Ability**   | In-order traversal gives sorted elements  | Not inherently sorted                    | Not inherently sorted                    |\n",
    "| **Application**       | Efficient searching, ordered traversal   | Priority queues, heapsort                | Job scheduling, Dijkstra's algorithm     |\n"
   ]
  },
  {
   "cell_type": "markdown",
   "id": "59031051-8db6-4564-9caa-20c0a52f77a8",
   "metadata": {},
   "source": [
    "### Key Points:\n",
    "- **Binary Search Tree (BST)**: Suitable for efficient searching and ordered traversal due to its ordering property. However, worst-case time complexity for operations can degrade to $ O(n) $ if the tree is unbalanced.\n",
    "- **Heap**: Used primarily for priority queues and heapsort. Heaps can be implemented as either Max-Heaps (where the root is the maximum element) or Min-Heaps (where the root is the minimum element).\n",
    "- **Priority Queue**: An abstract data type that supports insertion, deletion of the highest priority element, and sometimes priority updates efficiently. It can be implemented using heaps (usually Min-Heaps for minimum priority queues and Max-Heaps for maximum priority queues).\n",
    "\n"
   ]
  },
  {
   "cell_type": "code",
   "execution_count": null,
   "id": "f52a271a-f6e2-4afb-b51f-001ae590bac6",
   "metadata": {},
   "outputs": [],
   "source": []
  }
 ],
 "metadata": {
  "kernelspec": {
   "display_name": "dl-labs",
   "language": "python",
   "name": "dl-labs"
  },
  "language_info": {
   "codemirror_mode": {
    "name": "ipython",
    "version": 3
   },
   "file_extension": ".py",
   "mimetype": "text/x-python",
   "name": "python",
   "nbconvert_exporter": "python",
   "pygments_lexer": "ipython3",
   "version": "3.10.14"
  }
 },
 "nbformat": 4,
 "nbformat_minor": 5
}
